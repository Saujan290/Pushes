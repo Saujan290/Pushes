{
 "cells": [
  {
   "cell_type": "code",
   "execution_count": 1,
   "metadata": {
    "collapsed": true
   },
   "outputs": [],
   "source": [
    "use HackaMol;\n",
    "use HackaMol::X::NERF;\n",
    "use Modern::Perl;"
   ]
  },
  {
   "cell_type": "code",
   "execution_count": 2,
   "metadata": {
    "collapsed": false
   },
   "outputs": [
    {
     "data": {
      "text/plain": [
       "12\n",
       "\n",
       "  N   2.403328   0.854109   2.438412\n",
       "  C   1.680328  -0.198891   1.733412\n",
       "  C   2.301328  -1.554891   2.073412\n",
       "  O   1.587328  -2.530891   2.289412\n",
       "  C   1.704328   0.048109   0.218412\n",
       "  S   0.747328  -1.178891  -0.732588\n",
       "  N  -1.346672   2.194109   0.227412\n",
       "  C  -1.375672   1.545109  -1.079588\n",
       "  C  -2.194672   2.399109  -2.041588\n",
       "  O  -1.842672   2.543109  -3.210588\n",
       "  C  -2.005672   0.154109  -0.988588\n",
       "  S  -1.122672  -1.054891   0.059412\n"
      ]
     },
     "execution_count": 2,
     "metadata": {},
     "output_type": "execute_result"
    },
    {
     "name": "stderr",
     "output_type": "stream",
     "text": [
      "1\n"
     ]
    }
   ],
   "source": [
    "my $mol = HackaMol->read_file_mol('shit2.xyz');\n",
    "$mol->print_xyz;1"
   ]
  },
  {
   "cell_type": "markdown",
   "metadata": {},
   "source": [
    "### Build the two oxygens into the cystine molecule abstracted from PDB"
   ]
  },
  {
   "cell_type": "code",
   "execution_count": 3,
   "metadata": {
    "collapsed": false
   },
   "outputs": [
    {
     "data": {
      "text/plain": [
       "14\n",
       "\n",
       "  N   2.403328   0.854109   2.438412\n",
       "  C   1.680328  -0.198891   1.733412\n",
       "  C   2.301328  -1.554891   2.073412\n",
       "  O   1.587328  -2.530891   2.289412\n",
       "  C   1.704328   0.048109   0.218412\n",
       "  S   0.747328  -1.178891  -0.732588\n",
       "  N  -1.346672   2.194109   0.227412\n",
       "  C  -1.375672   1.545109  -1.079588\n",
       "  C  -2.194672   2.399109  -2.041588\n",
       "  O  -1.842672   2.543109  -3.210588\n",
       "  C  -2.005672   0.154109  -0.988588\n",
       "  S  -1.122672  -1.054891   0.059412\n",
       "  O   3.593734  -1.680708   2.135505\n",
       "  O  -3.279091   2.985124  -1.628524\n"
      ]
     },
     "execution_count": 3,
     "metadata": {},
     "output_type": "execute_result"
    },
    {
     "name": "stderr",
     "output_type": "stream",
     "text": [
      "GLOB(0x7fb41382aa08)\n"
     ]
    }
   ],
   "source": [
    "my @atoms = map{$_->xyz} $mol->all_atoms;\n",
    "my $nerf = HackaMol::X::NERF->new;\n",
    "\n",
    "my $o1 = $nerf->extend_abc( $atoms[3], $atoms[1], $atoms[2], 1.3, 120, 180 );\n",
    "my $o2 = $nerf->extend_abc( $atoms[9], $atoms[7], $atoms[8], 1.3, 120, 180 );\n",
    "\n",
    "$mol->push_atoms (\n",
    "    map{ HackaMol::Atom->new(Z => 8, coords => [$_]) } ($o1,$o2)\n",
    ");\n",
    "$mol->print_xyz;"
   ]
  },
  {
   "cell_type": "code",
   "execution_count": 5,
   "metadata": {
    "collapsed": false
   },
   "outputs": [
    {
     "data": {
      "text/plain": [
       "25\n",
       "\n",
       "  N   2.403328   0.854109   2.438412\n",
       "  C   1.680328  -0.198891   1.733412\n",
       "  C   2.301328  -1.554891   2.073412\n",
       "  O   1.587328  -2.530891   2.289412\n",
       "  C   1.704328   0.048109   0.218412\n",
       "  S   0.747328  -1.178891  -0.732588\n",
       "  N  -1.346672   2.194109   0.227412\n",
       "  C  -1.375672   1.545109  -1.079588\n",
       "  C  -2.194672   2.399109  -2.041588\n",
       "  O  -1.842672   2.543109  -3.210588\n",
       "  C  -2.005672   0.154109  -0.988588\n",
       "  S  -1.122672  -1.054891   0.059412\n",
       "  O   3.593734  -1.680708   2.135505\n",
       "  O  -3.279091   2.985124  -1.628524\n",
       "  H   3.183711   0.622248   3.019138\n",
       "  H   2.127855   1.809185   2.329123\n",
       "  H  -1.941495   2.623691  -0.452032\n",
       "  H   0.272171  -0.177222   2.154750\n",
       "  H  -0.235248   2.021090  -1.875689\n",
       "  H   2.899145  -0.072700  -0.629360\n",
       "  H   0.543347   0.914773   0.467243\n",
       "  H  -2.110260  -1.137939  -1.681822\n",
       "  H  -1.948845   0.746155   0.355716\n",
       "  H   4.548127  -1.773619   2.181358\n",
       "  H  -4.079893   3.417873  -1.323491\n"
      ]
     },
     "execution_count": 5,
     "metadata": {},
     "output_type": "execute_result"
    },
    {
     "name": "stderr",
     "output_type": "stream",
     "text": [
      "GLOB(0x7fb41382aa08)\n"
     ]
    }
   ],
   "source": [
    "my @atoms = map{$_->xyz} $mol->all_atoms;\n",
    "my $nerf = HackaMol::X::NERF->new;\n",
    "\n",
    "my $h1 = $nerf->extend_abc( $atoms[2], $atoms[1], $atoms[0], 1.0, 120, 1 );\n",
    "my $h2 = $nerf->extend_abc( $atoms[2], $atoms[1], $atoms[0], 1.0, 120, 180 );\n",
    "my $h3 = $nerf->extend_abc( $atoms[7], $atoms[5], $atoms[6], 1.0, 120, 1 );\n",
    "#my $h4 = $nerf->extend_abc( $atoms[7], $atoms[5], $atoms[6], 1.0, 120, 180 );\n",
    "my $h5 = $nerf->extend_abc( $atoms[2], $atoms[0], $atoms[1], 1.47, 109, 120);\n",
    "my $h6 = $nerf->extend_abc( $atoms[8], $atoms[6], $atoms[7], 1.47, 109, 90);\n",
    "my $h7 = $nerf->extend_abc( $atoms[5], $atoms[3], $atoms[4], 1.47, 109, -90);\n",
    "my $h8 = $nerf->extend_abc( $atoms[5], $atoms[3], $atoms[4], 1.47, 109, 90);\n",
    "my $h9 = $nerf->extend_abc( $atoms[11], $atoms[9], $atoms[10], 1.47, 109, 270);\n",
    "my $h10 = $nerf->extend_abc( $atoms[11], $atoms[9], $atoms[10], 1.47, 109, 90);\n",
    "my $h11 = $nerf->extend_abc( $atoms[3], $atoms[2], $atoms[12], 0.96, 180, 180);\n",
    "my $h12 = $nerf->extend_abc( $atoms[9], $atoms[8], $atoms[13], 0.96, 180, 90);\n",
    "\n",
    "\n",
    "$mol->push_atoms (\n",
    "    map{ HackaMol::Atom->new(Z => 1, coords => [$_]) } ($h1,$h2,$h3,$h5,$h6,$h7,$h8,$h9,$h10,$h11,$h12)\n",
    ");\n",
    "$mol->print_xyz;"
   ]
  },
  {
   "cell_type": "code",
   "execution_count": 6,
   "metadata": {
    "collapsed": false
   },
   "outputs": [
    {
     "name": "stderr",
     "output_type": "stream",
     "text": [
      "1\n"
     ]
    }
   ],
   "source": [
    "$mol->print_xyz('cys_oo.xyz');1;"
   ]
  },
  {
   "cell_type": "code",
   "execution_count": null,
   "metadata": {
    "collapsed": true
   },
   "outputs": [],
   "source": []
  }
 ],
 "metadata": {
  "kernelspec": {
   "display_name": "IPerl 0.005",
   "language": "perl",
   "name": "iperl"
  },
  "language_info": {
   "file_extension": ".pl",
   "mimetype": "text/x-perl",
   "name": "perl",
   "version": "5.20.1"
  }
 },
 "nbformat": 4,
 "nbformat_minor": 0
}
