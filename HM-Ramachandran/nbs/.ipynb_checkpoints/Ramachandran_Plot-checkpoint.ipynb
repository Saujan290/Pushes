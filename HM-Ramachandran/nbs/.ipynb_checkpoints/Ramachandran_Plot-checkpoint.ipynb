{
 "cells": [
  {
   "cell_type": "markdown",
   "metadata": {},
   "source": [
    "##Using HackaMol to calculate the Ramachandran Plot"
   ]
  },
  {
   "cell_type": "markdown",
   "metadata": {},
   "source": [
    "This code runs well with 1AXC. There is fair resemblance between the RStudio plot and http://www.rcsb.org/pdb/images/1AXC_ram_m_500.pdf .\n",
    "While for other pdbs the result is not duplicated as effectively.\n",
    "Next course of action will be designing a phi,psi funtion that gives only one phi,psi plot for each residue, as opposed to multiple plots for the same residue. \n"
   ]
  },
  {
   "cell_type": "code",
   "execution_count": 1,
   "metadata": {
    "collapsed": true
   },
   "outputs": [],
   "source": [
    "use Modern::Perl;\n",
    "use HackaMol;"
   ]
  },
  {
   "cell_type": "markdown",
   "metadata": {},
   "source": [
    "### Load a molecule within multiple chains from the pdbid"
   ]
  },
  {
   "cell_type": "code",
   "execution_count": 6,
   "metadata": {
    "collapsed": false
   },
   "outputs": [
    {
     "ename": "Warning",
     "evalue": "4LGL.pdb exists, set self->overwrite(1) to overwrite at /Users/chem_student/perl5/perlbrew/perls/perl-5.20.1/lib/site_perl/5.20.1/HackaMol.pm line 26.\n",
     "output_type": "error",
     "traceback": [
      "4LGL.pdb exists, set self->overwrite(1) to overwrite at /Users/chem_student/perl5/perlbrew/perls/perl-5.20.1/lib/site_perl/5.20.1/HackaMol.pm line 26.\n"
     ]
    }
   ],
   "source": [
    "my $pdbid    = '4LGL';\n",
    "my $mol      = HackaMol->new->pdbid_mol(\"$pdbid\");\n",
    "my @bb_atoms = grep {$_->occ == 1.0} $mol->select_atoms(sub{\n",
    "                                        $_ -> name eq 'C' or\n",
    "                                        $_ -> name eq 'CA' or\n",
    "                                        $_ -> name eq 'N' \n",
    "                                      });\n",
    "                                     "
   ]
  },
  {
   "cell_type": "markdown",
   "metadata": {},
   "source": [
    "## Create groups of atoms according to their chains"
   ]
  },
  {
   "cell_type": "code",
   "execution_count": 8,
   "metadata": {
    "collapsed": false
   },
   "outputs": [
    {
     "name": "stderr",
     "output_type": "stream",
     "text": [
      "1\n"
     ]
    },
    {
     "ename": "Warning",
     "evalue": "overwrite 4LGL_backbone.pdb at reply input line 3.\n",
     "output_type": "error",
     "traceback": [
      "overwrite 4LGL_backbone.pdb at reply input line 3.\n"
     ]
    }
   ],
   "source": [
    "my @chains = HackaMol->new->group_by_atom_attr('chain',@bb_atoms);\n",
    "my $bb_mol = HackaMol::Molecule->new(groups => [@chains]);\n",
    "$bb_mol->print_pdb (\"$pdbid\\_backbone.pdb\");1"
   ]
  },
  {
   "cell_type": "markdown",
   "metadata": {},
   "source": [
    "##Construct the backbone dihedrals for each chain\n",
    "The backbone atoms are ordered in repeats {N, CA, C}. Walking down the backbone: N0-CA0-C0-N1-CA1-C1-N2-CA2-C2 ...there will be dihedrals about the CA0-C0(PSI), C0-N1(OMEGA), N1-CA1 (PHI), CA1-C1 (PSI), ... bonds.  Since there are no bonds between chains, they must be treated separately."
   ]
  },
  {
   "cell_type": "code",
   "execution_count": 9,
   "metadata": {
    "collapsed": true
   },
   "outputs": [],
   "source": [
    "my @dihedrals;\n",
    "foreach my $chain ($bb_mol->all_groups){\n",
    "    push @dihedrals, HackaMol->new->build_dihedrals($chain->all_atoms);\n",
    "}"
   ]
  },
  {
   "cell_type": "code",
   "execution_count": 10,
   "metadata": {
    "collapsed": false
   },
   "outputs": [
    {
     "name": "stderr",
     "output_type": "stream",
     "text": [
      "1\n"
     ]
    },
    {
     "ename": "Warning",
     "evalue": "Use of uninitialized value in printf at reply input line 12.\n",
     "output_type": "error",
     "traceback": [
      "Use of uninitialized value in printf at reply input line 12.\n"
     ]
    }
   ],
   "source": [
    "my $i= 0;\n",
    "open(my $fh, \">\", \"$pdbid\\_dihe.txt\");\n",
    "printf $fh(\" %7s %7s %7s \\n\" , qw(  phi   psi   omega));\n",
    "my @dihe_deg = map{\n",
    "                    $dihedrals[$_]->dihe_deg\n",
    "} 0 .. $#dihedrals;\n",
    "\n",
    "unshift @dihe_deg, 0;\n",
    "\n",
    "\n",
    "while ($i+3 < $#dihe_deg+4){\n",
    "    printf $fh (\"%5i %7.2f %7.2f %7.2f \\n\", $i, map{$dihe_deg[$_]}($i, $i+1, $i+2));\n",
    "  #if($dihe_deg[$i] > 110 and $dihe_deg[$i+1] > 150){\n",
    "  #  printf (\"shit %5i %7.2f %7.2f %7.2f \\n\", $i, map{$dihe_deg[$_]}($i, $i+1, $i+2));\n",
    "  #      $dihedrals[$i]->print_pdb;\n",
    "  #      $dihedrals[$i+1]->print_pdb;\n",
    "  #}\n",
    "    $i += 3;\n",
    "} \n",
    "close($fh);"
   ]
  },
  {
   "cell_type": "markdown",
   "metadata": {},
   "source": []
  }
 ],
 "metadata": {
  "kernelspec": {
   "display_name": "IPerl 0.005",
   "language": "perl",
   "name": "iperl"
  },
  "language_info": {
   "file_extension": ".pl",
   "mimetype": "text/x-perl",
   "name": "perl",
   "version": "5.20.1"
  }
 },
 "nbformat": 4,
 "nbformat_minor": 0
}
