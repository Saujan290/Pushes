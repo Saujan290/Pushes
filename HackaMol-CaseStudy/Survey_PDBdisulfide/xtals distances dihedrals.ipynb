{
 "cells": [
  {
   "cell_type": "code",
   "execution_count": 1,
   "metadata": {
    "collapsed": true
   },
   "outputs": [],
   "source": [
    "use Modern::Perl;\n",
    "        use HackaMol;"
   ]
  },
  {
   "cell_type": "code",
   "execution_count": null,
   "metadata": {
    "collapsed": true
   },
   "outputs": [],
   "source": [
    "my $work = HackaMol->new(data=>$type, scratch=>\"$type\\_clusters\");\n",
    "my @pdbs = $work->data->children(qr/\\.pdb/);\n",
    "$work->scratch->mkpath unless $work->scratch->exists;"
   ]
  }
 ],
 "metadata": {
  "kernelspec": {
   "display_name": "IPerl 0.005",
   "language": "perl",
   "name": "iperl"
  },
  "language_info": {
   "file_extension": ".pl",
   "mimetype": "text/x-perl",
   "name": "perl",
   "version": "5.20.1"
  }
 },
 "nbformat": 4,
 "nbformat_minor": 0
}
