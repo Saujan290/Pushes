{
 "cells": [
  {
   "cell_type": "markdown",
   "metadata": {},
   "source": [
    "##Using HackaMol to calculate the Ramachandran Plot"
   ]
  },
  {
   "cell_type": "code",
   "execution_count": 1,
   "metadata": {
    "collapsed": true
   },
   "outputs": [],
   "source": [
    "use Modern::Perl;\n",
    "use HackaMol;"
   ]
  },
  {
   "cell_type": "markdown",
   "metadata": {},
   "source": [
    "### Load a molecule within multiple chains from the pdbid"
   ]
  },
  {
   "cell_type": "code",
   "execution_count": 2,
   "metadata": {
    "collapsed": false
   },
   "outputs": [
    {
     "ename": "Warning",
     "evalue": "1axc.pdb exists, set self->overwrite(1) to overwrite at /Users/demianriccardi/perl5/perlbrew/perls/perl-5.20.2t/lib/site_perl/5.20.2/HackaMol.pm line 26.\n",
     "output_type": "error",
     "traceback": [
      "1axc.pdb exists, set self->overwrite(1) to overwrite at /Users/demianriccardi/perl5/perlbrew/perls/perl-5.20.2t/lib/site_perl/5.20.2/HackaMol.pm line 26.\n"
     ]
    }
   ],
   "source": [
    "my $pdbid    = '1axc';\n",
    "my $mol      = HackaMol->new->pdbid_mol($pdbid);\n",
    "my @bb_atoms = $mol->select_atoms(sub{\n",
    "                                        $_ -> name eq 'C' or\n",
    "                                        $_ -> name eq 'CA' or\n",
    "                                        $_ -> name eq 'N'\n",
    "                                     });\n",
    "                                     "
   ]
  },
  {
   "cell_type": "markdown",
   "metadata": {},
   "source": [
    "## Create groups of atoms according to their chains"
   ]
  },
  {
   "cell_type": "code",
   "execution_count": 3,
   "metadata": {
    "collapsed": false
   },
   "outputs": [
    {
     "name": "stderr",
     "output_type": "stream",
     "text": [
      "1\n"
     ]
    },
    {
     "ename": "Warning",
     "evalue": "overwrite 1axc_backbone.pdb at reply input line 3.\n",
     "output_type": "error",
     "traceback": [
      "overwrite 1axc_backbone.pdb at reply input line 3.\n"
     ]
    }
   ],
   "source": [
    "my @chains = HackaMol->new->group_by_atom_attr('chain',@bb_atoms);\n",
    "my $bb_mol = HackaMol::Molecule->new(groups => [@chains]);\n",
    "$bb_mol->print_pdb (\"$pdbid\\_backbone.pdb\");1"
   ]
  },
  {
   "cell_type": "markdown",
   "metadata": {},
   "source": [
    "##Construct the backbone dihedrals for each chain\n",
    "The backbone atoms are ordered in repeats {N, CA, C}. Walking down the backbone: N0-CA0-C0-N1-CA1-C1-N2-CA2-C2 ...there will be dihedrals about the CA0-C0(PSI), C0-N1(OMEGA), N1-CA1 (PHI), CA1-C1 (PSI), ... bonds.  Since there are no bonds between chains, they must be treated separately."
   ]
  },
  {
   "cell_type": "code",
   "execution_count": 5,
   "metadata": {
    "collapsed": true
   },
   "outputs": [],
   "source": [
    "my @dihedrals;\n",
    "foreach my $chain ($bb_mol->all_groups){\n",
    "    push @dihedrals, HackaMol->new->build_dihedrals($chain->all_atoms);\n",
    "}"
   ]
  },
  {
   "cell_type": "markdown",
   "metadata": {},
   "source": []
  },
  {
   "cell_type": "code",
   "execution_count": null,
   "metadata": {
    "collapsed": true
   },
   "outputs": [],
   "source": []
  }
 ],
 "metadata": {
  "kernelspec": {
   "display_name": "IPerl 0.005",
   "language": "perl",
   "name": "iperl"
  },
  "language_info": {
   "file_extension": ".pl",
   "mimetype": "text/x-perl",
   "name": "perl",
   "version": "5.20.2"
  }
 },
 "nbformat": 4,
 "nbformat_minor": 0
}
