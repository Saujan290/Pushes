{
 "cells": [
  {
   "cell_type": "code",
   "execution_count": 1,
   "metadata": {
    "collapsed": true
   },
   "outputs": [],
   "source": [
    "use Modern::Perl;\n",
    "use YAML::XS qw(LoadFile Dump);\n",
    "use List::Util qw(max min sum);\n",
    "use Math::SimpleHisto::XS;\n",
    "\n",
    "\n"
   ]
  },
  {
   "cell_type": "code",
   "execution_count": null,
   "metadata": {
    "collapsed": true
   },
   "outputs": [],
   "source": [
    "pwd\n"
   ]
  },
  {
   "cell_type": "code",
   "execution_count": 2,
   "metadata": {
    "collapsed": false
   },
   "outputs": [
    {
     "ename": "Error",
     "evalue": "Can't open '..xtals/xtals_dihedrals_dses.yaml' for input:\nNo such file or directory at /Users/chem_student/perl5/perlbrew/perls/perl-5.20.1/lib/site_perl/5.20.1/darwin-2level/YAML/XS.pm line 46.\n",
     "output_type": "error",
     "traceback": [
      "Can't open '..xtals/xtals_dihedrals_dses.yaml' for input:\nNo such file or directory at /Users/chem_student/perl5/perlbrew/perls/perl-5.20.1/lib/site_perl/5.20.1/darwin-2level/YAML/XS.pm line 46.\n"
     ]
    }
   ],
   "source": [
    "\n",
    "my $yaml = LoadFile (\"..xtals/xtals\\_dihedrals_dses.yaml\");\n",
    "\n",
    "my $nbin = 50;\n",
    "my $min  = -180;\n",
    "my $max  = 180;\n",
    "\n",
    "my @chi3;\n",
    "my @chi2;\n",
    "my @chi1;\n",
    "foreach my $cluster (keys %$yaml){\n",
    "  foreach my $t (@{$yaml->{$cluster}}){\n",
    "    push @chi3, $t->{dihedral}{chi3};\n",
    "    push @chi2, $t->{dihedral}{chi2};\n",
    "    push @chi2, $t->{dihedral}{chi2p};\n",
    "    push @chi1, $t->{dihedral}{chi1};\n",
    "    push @chi1, $t->{dihedral}{chi1p};\n",
    "  }\n",
    "}\n",
    "\n",
    "  my $df = ($max-$min)/ $nbin;\n",
    "\n",
    "my $cnt = 3;\n",
    "foreach my $dihe (\\@chi3,\\@chi2,\\@chi1){\n",
    "  say \"BEGIN chi$cnt\";\n",
    "  my $hist = Math::SimpleHisto::XS->new(\n",
    "          bins => [ map{ $min + $df*$_ } (0 .. $nbin)],\n",
    "  );\n",
    "\n",
    "  $hist->fill($dihe);\n",
    "  $hist->normalize($hist->total/scalar(@$dihe));\n",
    "  my $data_bins   = $hist->all_bin_contents;\n",
    "  my $bin_centers = $hist->bin_centers;\n",
    "\n",
    "  my $sum = 0;\n",
    "  foreach my $i (0 .. $#{$data_bins}){\n",
    "    $sum += $data_bins->[$i];\n",
    "    printf (\"%10.4f\\n\", $data_bins->[$i]);\n",
    "    #printf (\"%10.4f %10.4f\\n\", $bin_centers->[$i], $data_bins->[$i]);\n",
    "  }\n",
    "\n",
    "  say \"\\n\\nsum: $sum\\n\";\n",
    "  say \"END chi$cnt\";\n",
    "  $cnt--;\n",
    "}"
   ]
  },
  {
   "cell_type": "code",
   "execution_count": null,
   "metadata": {
    "collapsed": true
   },
   "outputs": [],
   "source": []
  }
 ],
 "metadata": {
  "kernelspec": {
   "display_name": "IPerl 0.005",
   "language": "perl",
   "name": "iperl"
  },
  "language_info": {
   "file_extension": ".pl",
   "mimetype": "text/x-perl",
   "name": "perl",
   "version": "5.20.1"
  }
 },
 "nbformat": 4,
 "nbformat_minor": 0
}
